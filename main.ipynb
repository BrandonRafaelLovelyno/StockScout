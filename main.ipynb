{
 "cells": [
  {
   "cell_type": "code",
   "execution_count": 97,
   "metadata": {},
   "outputs": [],
   "source": [
    "import requests as req\n",
    "from bs4 import BeautifulSoup\n",
    "import pandas as pd"
   ]
  },
  {
   "cell_type": "markdown",
   "metadata": {},
   "source": [
    "### Constant Declaration"
   ]
  },
  {
   "cell_type": "code",
   "execution_count": 98,
   "metadata": {},
   "outputs": [],
   "source": [
    "headers = {'User-Agent': 'Mozilla/5.0 (Windows NT 10.0; Win64; x64) AppleWebKit/537.36 (KHTML, like Gecko) Chrome/128.0.0.0 Safari/537.36'}\n",
    "\n",
    "tv_url = \"https://id.tradingview.com/markets/stocks-indonesia/market-movers-active/\"\n",
    "tv_index_class = \"apply-common-tooltip tickerNameBox-GrtoTeat tickerName-GrtoTeat\"\n",
    "\n",
    "yh_url = \"https://finance.yahoo.com/quote/\""
   ]
  },
  {
   "cell_type": "markdown",
   "metadata": {},
   "source": [
    "### Stox Index Fetching"
   ]
  },
  {
   "cell_type": "code",
   "execution_count": 99,
   "metadata": {},
   "outputs": [],
   "source": [
    "tv_page = req.get(tv_url,headers=headers)\n",
    "soup = BeautifulSoup(tv_page.content, 'html.parser')"
   ]
  },
  {
   "cell_type": "code",
   "execution_count": 100,
   "metadata": {},
   "outputs": [],
   "source": [
    "main_table = soup.find('table')\n",
    "stock_rows = main_table.find_all('a',class_=\"apply-common-tooltip tickerNameBox-GrtoTeat tickerName-GrtoTeat\")\n",
    "stock = [row.get_text() for row in stock_rows]"
   ]
  },
  {
   "cell_type": "markdown",
   "metadata": {},
   "source": [
    "### Stox Index Assessment"
   ]
  },
  {
   "cell_type": "markdown",
   "metadata": {},
   "source": [
    "##### Price History Fetching"
   ]
  },
  {
   "cell_type": "code",
   "execution_count": 101,
   "metadata": {},
   "outputs": [],
   "source": [
    "yh_page = req.get(yh_url+stock[0]+'.JK/history',headers=headers)\n",
    "\n",
    "soup = BeautifulSoup(yh_page.content, 'html.parser')\n",
    "main_table = soup.find('table')\n",
    "price_rows = main_table.find_all('tr')[1:32]"
   ]
  },
  {
   "cell_type": "code",
   "execution_count": 102,
   "metadata": {},
   "outputs": [
    {
     "name": "stdout",
     "output_type": "stream",
     "text": [
      "        Open       High        Low      Close\n",
      "0  10,325.00  10,325.00  10,200.00  10,325.00\n",
      "1  10,500.00  10,500.00  10,225.00  10,225.00\n",
      "2  10,300.00  10,350.00  10,250.00  10,350.00\n",
      "3  10,275.00  10,300.00  10,175.00  10,200.00\n",
      "4  10,275.00  10,375.00  10,250.00  10,325.00\n",
      "5  10,325.00  10,375.00  10,300.00  10,325.00\n",
      "6  10,350.00  10,400.00  10,225.00  10,325.00\n",
      "7  10,500.00  10,500.00  10,425.00  10,425.00\n",
      "8  10,325.00  10,450.00  10,300.00  10,425.00\n",
      "9  10,325.00  10,425.00  10,275.00  10,375.00\n"
     ]
    }
   ],
   "source": [
    "data_rows = []\n",
    "\n",
    "for row in price_rows:\n",
    "    columns = row.find_all('td')\n",
    "    columns = columns[1:5]\n",
    "    \n",
    "    open, high, low, close = [column.get_text() for column in columns]\n",
    "    data_rows.append({'Open':open,'High':high,'Low':low,'Close':close})\n",
    "\n",
    "df = pd.DataFrame(data_rows)"
   ]
  },
  {
   "cell_type": "markdown",
   "metadata": {},
   "source": [
    "##### Assessment Function Declaration"
   ]
  },
  {
   "cell_type": "code",
   "execution_count": null,
   "metadata": {},
   "outputs": [],
   "source": []
  },
  {
   "cell_type": "markdown",
   "metadata": {},
   "source": [
    "##### Assessment Function Implementation"
   ]
  }
 ],
 "metadata": {
  "kernelspec": {
   "display_name": "venv",
   "language": "python",
   "name": "python3"
  },
  "language_info": {
   "codemirror_mode": {
    "name": "ipython",
    "version": 3
   },
   "file_extension": ".py",
   "mimetype": "text/x-python",
   "name": "python",
   "nbconvert_exporter": "python",
   "pygments_lexer": "ipython3",
   "version": "3.11.5"
  }
 },
 "nbformat": 4,
 "nbformat_minor": 2
}
