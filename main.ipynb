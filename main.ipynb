{
 "cells": [
  {
   "cell_type": "code",
   "execution_count": 468,
   "metadata": {},
   "outputs": [],
   "source": [
    "import requests as req\n",
    "from bs4 import BeautifulSoup\n",
    "import pandas as pd"
   ]
  },
  {
   "cell_type": "markdown",
   "metadata": {},
   "source": [
    "### Constant Declaration"
   ]
  },
  {
   "cell_type": "code",
   "execution_count": 469,
   "metadata": {},
   "outputs": [],
   "source": [
    "stock_number = 10\n",
    "minimum_score = 75\n",
    "\n",
    "upper_th = {\n",
    "    \"rsi\" : 70,\n",
    "    \"10di-\" : 18,\n",
    "    \"25di-\" : 18,\n",
    "}\n",
    "\n",
    "lower_th = {\n",
    "    \"10di+\" : 25,\n",
    "    \"25di+\":25,\n",
    "    \"25adx\":20,\n",
    "    \"10adx\":25,\n",
    "}"
   ]
  },
  {
   "cell_type": "code",
   "execution_count": 470,
   "metadata": {},
   "outputs": [],
   "source": [
    "headers = {'User-Agent': 'Mozilla/5.0 (Windows NT 10.0; Win64; x64) AppleWebKit/537.36 (KHTML, like Gecko) Chrome/128.0.0.0 Safari/537.36'}\n",
    "\n",
    "tv_url = \"https://id.tradingview.com/markets/stocks-indonesia/market-movers-active/\"\n",
    "tv_index_class = \"apply-common-tooltip tickerNameBox-GrtoTeat tickerName-GrtoTeat\"\n",
    "\n",
    "yh_url = \"https://finance.yahoo.com/quote/\""
   ]
  },
  {
   "cell_type": "markdown",
   "metadata": {},
   "source": [
    "### Stock Index Fetching"
   ]
  },
  {
   "cell_type": "code",
   "execution_count": 471,
   "metadata": {},
   "outputs": [],
   "source": [
    "tv_page = req.get(tv_url,headers=headers)\n",
    "soup = BeautifulSoup(tv_page.content, 'html.parser')"
   ]
  },
  {
   "cell_type": "code",
   "execution_count": 472,
   "metadata": {},
   "outputs": [
    {
     "name": "stdout",
     "output_type": "stream",
     "text": [
      "Stocks:  ['BBCA', 'BBRI', 'BMRI', 'ANTM', 'TLKM', 'BBNI', 'BREN', 'ASII', 'AMMN', 'ADRO', 'TPIA', 'PTRO', 'PANI', 'UNTR', 'WIKA', 'GOTO', 'BRPT', 'INCO', 'FILM', 'AMRT', 'INDF', 'MDKA', 'TOBA', 'CMRY', 'PNLF', 'CPIN', 'KLBF', 'SSIA', 'ABMM', 'BDKR', 'INKP', 'CUAN', 'BSBK', 'ICBP', 'MIKA', 'PGAS', 'UNVR', 'SRTG', 'ESSA', 'ISAT', 'BRIS', 'SMRA', 'GEMS', 'BOGA', 'DSSA', 'TCPI', 'MAPA', 'NISP', 'PSAB', 'CTRA', 'PTBA', 'SIDO', 'EXCL', 'MEDC', 'ARTO', 'GJTL', 'SMIL', 'BCAP', 'BSDE', 'EURO', 'SMGR', 'PNBN', 'ITMG', 'BBTN', 'SILO', 'ADMR', 'PWON', 'DSNG', 'MAPI', 'JSMR', 'JPFA', 'KIJA', 'TOWR', 'CMNT', 'BUMI', 'INET', 'OASA', 'PTPP', 'MYOR', 'BUKA', 'HRUM', 'BIPI', 'MBMA', 'GGRM', 'AKRA', 'ACES', 'BSSR', 'ERAA', 'WIFI', 'HATM', 'TSPC', 'MTEL', 'ADHI', 'APEX', 'TKIM', 'HEAL', 'BFIN', 'SSMS', 'AUTO', 'NEST']\n"
     ]
    }
   ],
   "source": [
    "main_table = soup.find('table')\n",
    "stock_rows = main_table.find_all('a',class_=\"apply-common-tooltip tickerNameBox-GrtoTeat tickerName-GrtoTeat\")\n",
    "stocks = [row.get_text() for row in stock_rows]\n",
    "\n",
    "print(\"Stocks: \",stocks)"
   ]
  },
  {
   "cell_type": "markdown",
   "metadata": {},
   "source": [
    "### Stock Price Mining"
   ]
  },
  {
   "cell_type": "markdown",
   "metadata": {},
   "source": [
    "##### Fetching Functions Declaration"
   ]
  },
  {
   "cell_type": "code",
   "execution_count": 473,
   "metadata": {},
   "outputs": [],
   "source": [
    "def convert_text_to_float(text):\n",
    "    return float(text.replace(\",\",\"\"))\n",
    "\n",
    "def parse_price_per_row(columns):\n",
    "    return [convert_text_to_float(col.get_text()) for col in columns]"
   ]
  },
  {
   "cell_type": "code",
   "execution_count": 474,
   "metadata": {},
   "outputs": [],
   "source": [
    "def fetch_stock_rows(stock):\n",
    "    yh_page = req.get(yh_url+stock+\".JK/history\",headers=headers)\n",
    "    soup = BeautifulSoup(yh_page.content, 'html.parser')\n",
    "    \n",
    "    main_table = soup.find('table')\n",
    "    price_rows = main_table.find_all('tr')[1:32]\n",
    "    return price_rows\n",
    "\n",
    "def get_stock_df(price_rows):\n",
    "    data_rows = []\n",
    "    \n",
    "    for row in price_rows:\n",
    "        columns = row.find_all('td')\n",
    "        columns = columns[1:5]\n",
    "    \n",
    "        try : \n",
    "            open, high, low, close = parse_price_per_row(columns)\n",
    "            data_rows.append({'Open':open,'High':high,'Low':low,'Close':close})\n",
    "        except :\n",
    "            pass\n",
    "\n",
    "    df = pd.DataFrame(data_rows)\n",
    "    reversed_df = df.iloc[::-1].reset_index(drop=True)\n",
    "        \n",
    "    return reversed_df"
   ]
  },
  {
   "cell_type": "markdown",
   "metadata": {},
   "source": [
    "##### Assessment Functions Declaration"
   ]
  },
  {
   "cell_type": "code",
   "execution_count": 475,
   "metadata": {},
   "outputs": [],
   "source": [
    "def get_true_range(df):\n",
    "    tr_1 = df['High'] - df['Low']\n",
    "    tr_2 = abs(df['High'] - df['Close'].shift())\n",
    "    tr_3 = abs(df['Low'] - df['Close'].shift())\n",
    "    \n",
    "    tr_final = pd.concat([tr_1,tr_2,tr_3],axis=1).max(axis=1)\n",
    "    return tr_final"
   ]
  },
  {
   "cell_type": "code",
   "execution_count": 476,
   "metadata": {},
   "outputs": [],
   "source": [
    "def get_rsi(df, period=14):\n",
    "    delta = df['Close'].diff()\n",
    "    gain = (delta.where(delta > 0, 0)).rolling(window=period).mean()\n",
    "    loss = (-delta.where(delta < 0, 0)).rolling(window=period).mean()\n",
    "    \n",
    "    rs = gain / loss\n",
    "    return 100 - (100 / (1 + rs))\n",
    "\n",
    "def get_atr(df, period=14):\n",
    "    tr = get_true_range(df)\n",
    "    return tr.rolling(window=period).mean()\n",
    "\n",
    "def get_dis(df, period=14):\n",
    "    atr = get_atr(df, period)\n",
    "    \n",
    "    up = df['High'] - df['High'].shift()\n",
    "    down = df['Low'].shift() - df['Low']\n",
    "    \n",
    "    plus_dm = (up.where(up > down, 0)).rolling(window=period).mean()\n",
    "    minus_dm = (-down.where(down > up, 0)).rolling(window=period).mean()\n",
    "    \n",
    "    plus_di = 100 * (plus_dm / atr)\n",
    "    minus_di = 100 * (minus_dm / atr)\n",
    "    \n",
    "    return plus_di, minus_di\n",
    "\n",
    "def get_adx(df, period=14):\n",
    "    plus_di, minus_di = get_dis(df, period)\n",
    "    dx = 100 * (abs(plus_di - minus_di) / (plus_di + minus_di))\n",
    "    return dx.rolling(window=period).mean()"
   ]
  },
  {
   "cell_type": "code",
   "execution_count": 477,
   "metadata": {},
   "outputs": [],
   "source": [
    "def assess_rsi(df,period=14):\n",
    "    rsi = get_rsi(df, period)\n",
    "    \n",
    "    return rsi.iloc[-1] <= upper_th['rsi']\n",
    "\n",
    "def assess_dis(df,period=14):\n",
    "    plus_di, minus_di = get_dis(df, period)\n",
    "    return plus_di.iloc[-1] >= lower_th['10di+'] and minus_di.iloc[-1] <= upper_th['10di-']\n",
    "\n",
    "def assess_adx(df,period=14):\n",
    "    adx = get_adx(df, period)\n",
    "    return adx.iloc[-1] >= lower_th['25adx']\n",
    "\n",
    "def assess_stock(df):    \n",
    "    rsi = assess_rsi(df)\n",
    "    short_dis = assess_dis(df,period=10)\n",
    "    long_dis = assess_dis(df,period=25)\n",
    "    short_adx = assess_adx(df,period=10)\n",
    "    long_adx = assess_adx(df,period=25)\n",
    "    \n",
    "    return rsi, short_dis, long_dis, short_adx, long_adx"
   ]
  },
  {
   "cell_type": "code",
   "execution_count": 478,
   "metadata": {},
   "outputs": [],
   "source": [
    "def parse_assessment(assessment):\n",
    "    return {\"RSI\":bool(assessment[0]),\"10DI+\":bool(assessment[1]),\"25DI+\":bool(assessment[2]),\"10ADX\":bool(assessment[3]),\"25ADX\":bool(assessment[4])}"
   ]
  },
  {
   "cell_type": "markdown",
   "metadata": {},
   "source": [
    "#####  Stock Filtration"
   ]
  },
  {
   "cell_type": "code",
   "execution_count": 479,
   "metadata": {},
   "outputs": [],
   "source": [
    "passed_stock = []\n",
    "\n",
    "for stock in stocks : \n",
    "    if len(passed_stock) >= stock_number:\n",
    "        break\n",
    "    \n",
    "    stock_price_rows = fetch_stock_rows(stock)\n",
    "    stock_df = get_stock_df(stock_price_rows)\n",
    "        \n",
    "    try:\n",
    "        \n",
    "        assessment = assess_stock(stock_df)\n",
    "\n",
    "        score = (sum(assessment)/len(assessment))*100\n",
    "        if score >= minimum_score:\n",
    "            passed_stock.append({\"Stock\":stock,\"Score\":score,\"Assessment\":parse_assessment(assessment)})\n",
    "            \n",
    "    except:\n",
    "        pass\n",
    "    \n",
    "final_df = pd.DataFrame(passed_stock)"
   ]
  },
  {
   "cell_type": "markdown",
   "metadata": {},
   "source": [
    "##### Exporting Passed Stock"
   ]
  },
  {
   "cell_type": "code",
   "execution_count": 480,
   "metadata": {},
   "outputs": [],
   "source": [
    "final_df.to_csv(\"stock_assessment.csv\",index=False)"
   ]
  }
 ],
 "metadata": {
  "kernelspec": {
   "display_name": "venv",
   "language": "python",
   "name": "python3"
  },
  "language_info": {
   "codemirror_mode": {
    "name": "ipython",
    "version": 3
   },
   "file_extension": ".py",
   "mimetype": "text/x-python",
   "name": "python",
   "nbconvert_exporter": "python",
   "pygments_lexer": "ipython3",
   "version": "3.11.5"
  }
 },
 "nbformat": 4,
 "nbformat_minor": 2
}
