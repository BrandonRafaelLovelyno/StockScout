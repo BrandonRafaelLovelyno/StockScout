{
  "cells": [
    {
      "cell_type": "code",
      "execution_count": 20,
      "metadata": {},
      "outputs": [],
      "source": [
        "import requests as req\n",
        "from bs4 import BeautifulSoup\n",
        "import pandas as pd"
      ]
    },
    {
      "cell_type": "markdown",
      "metadata": {},
      "source": [
        "### Constant Declaration"
      ]
    },
    {
      "cell_type": "markdown",
      "metadata": {},
      "source": [
        "#### Global"
      ]
    },
    {
      "cell_type": "code",
      "execution_count": 21,
      "metadata": {},
      "outputs": [],
      "source": [
        "stock_number = 100\n",
        "minimum_score = 75\n",
        "\n",
        "th = {\n",
        "    \"rsi\" : {\n",
        "        \"upper\" : 60,\n",
        "        \"lower\" : 70\n",
        "    },\n",
        "    \"10di-\" : {\n",
        "        \"upper\" : 13,\n",
        "        \"lower\" : 18\n",
        "    },\n",
        "    \"25di-\" : {\n",
        "        \"upper\" : 13,\n",
        "        \"lower\" : 18\n",
        "    },\n",
        "    \"10di+\" : {\n",
        "        \"upper\" : 30,\n",
        "        \"lower\" : 25\n",
        "    },\n",
        "    \"25di+\":{\n",
        "        \"upper\" : 30,\n",
        "        \"lower\" : 20\n",
        "    },\n",
        "    \"25adx\":{\n",
        "        \"upper\" : 30,\n",
        "        \"lower\" : 20\n",
        "    },\n",
        "    \"10adx\":{\n",
        "        \"upper\" : 30,\n",
        "        \"lower\" : 25\n",
        "    },\n",
        "    \"macd\":{\n",
        "        \"upper\" : 3,\n",
        "        \"lower\" : 0\n",
        "    },\n",
        "}"
      ]
    },
    {
      "cell_type": "markdown",
      "metadata": {},
      "source": [
        "#### Option : TradingView"
      ]
    },
    {
      "cell_type": "code",
      "execution_count": 22,
      "metadata": {},
      "outputs": [],
      "source": [
        "headers = {'User-Agent': 'Mozilla/5.0 (Linux; Android 10; K) AppleWebKit/537.36 (KHTML, like Gecko) Chrome/127.0.0.0 Mobile Safari/537.36'}\n",
        "\n",
        "tv_url = \"https://id.tradingview.com/markets/stocks-indonesia/market-movers-active/\"\n",
        "tv_index_class = \"apply-common-tooltip tickerNameBox-GrtoTeat tickerName-GrtoTeat\"\n",
        "\n",
        "yh_url = \"https://finance.yahoo.com/quote/\""
      ]
    },
    {
      "cell_type": "markdown",
      "metadata": {},
      "source": [
        "### Acquiring Stock Index"
      ]
    },
    {
      "cell_type": "markdown",
      "metadata": {},
      "source": [
        "#### Option : TradingView"
      ]
    },
    {
      "cell_type": "code",
      "execution_count": 23,
      "metadata": {},
      "outputs": [],
      "source": [
        "def fetch_index():\n",
        "    tv_page = req.get(tv_url,headers=headers)\n",
        "    soup = BeautifulSoup(tv_page.content, 'html.parser')\n",
        "    \n",
        "    main_table = soup.find('table')\n",
        "    stock_rows = main_table.find_all('a',class_=\"apply-common-tooltip tickerNameBox-GrtoTeat tickerName-GrtoTeat\")\n",
        "    \n",
        "    return [row.get_text() for row in stock_rows]"
      ]
    },
    {
      "cell_type": "markdown",
      "metadata": {},
      "source": [
        "#### Option : IDX List"
      ]
    },
    {
      "cell_type": "code",
      "execution_count": 24,
      "metadata": {},
      "outputs": [],
      "source": [
        "def read_index():\n",
        "    stocks = pd.read_csv(\"stock_list.csv\",delimiter=\";\")\n",
        "    return stocks['Kode'].tolist()"
      ]
    },
    {
      "cell_type": "markdown",
      "metadata": {},
      "source": [
        "#### Implementation"
      ]
    },
    {
      "cell_type": "code",
      "execution_count": 25,
      "metadata": {},
      "outputs": [],
      "source": [
        "get_stock_index = {\"TV\":fetch_index, \"IDX\":read_index}"
      ]
    },
    {
      "cell_type": "code",
      "execution_count": 26,
      "metadata": {},
      "outputs": [],
      "source": [
        "stocks = get_stock_index['TV']()"
      ]
    },
    {
      "cell_type": "markdown",
      "metadata": {},
      "source": [
        "### Stock Price Mining"
      ]
    },
    {
      "cell_type": "markdown",
      "metadata": {},
      "source": [
        "#### Global"
      ]
    },
    {
      "cell_type": "markdown",
      "metadata": {},
      "source": [
        "##### Fetching Functions Declaration"
      ]
    },
    {
      "cell_type": "code",
      "execution_count": 27,
      "metadata": {},
      "outputs": [],
      "source": [
        "def convert_text_to_float(text):\n",
        "    return float(text.replace(\",\",\"\"))\n",
        "\n",
        "def parse_price_per_row(columns):\n",
        "    return [convert_text_to_float(col.get_text()) for col in columns]"
      ]
    },
    {
      "cell_type": "code",
      "execution_count": 28,
      "metadata": {},
      "outputs": [],
      "source": [
        "def fetch_stock_rows(stock):\n",
        "    yh_page = req.get(yh_url+stock+\".JK/history\",headers=headers)\n",
        "    soup = BeautifulSoup(yh_page.content, 'html.parser')\n",
        "    \n",
        "    main_table = soup.find('table')\n",
        "    price_rows = main_table.find_all('tr')[1:50]\n",
        "    \n",
        "    return price_rows\n",
        "\n",
        "def get_stock_df(price_rows):\n",
        "    data_rows = []\n",
        "    \n",
        "    for row in price_rows:\n",
        "        columns = row.find_all('td')\n",
        "        columns = columns[1:5]\n",
        "    \n",
        "        try : \n",
        "            open, high, low, close = parse_price_per_row(columns)\n",
        "            data_rows.append({'Open':open,'High':high,'Low':low,'Close':close})\n",
        "        except :\n",
        "            pass\n",
        "\n",
        "    df = pd.DataFrame(data_rows)\n",
        "    reversed_df = df.iloc[::-1].reset_index(drop=True)\n",
        "        \n",
        "    return reversed_df\n",
        "\n",
        "def print_progress(total,fetched,passed):\n",
        "    print(\"Total : \",total)\n",
        "    print(\"Fetched : \",fetched)\n",
        "    print(\"Passed : \",passed,\"\\n\")"
      ]
    },
    {
      "cell_type": "markdown",
      "metadata": {},
      "source": [
        "##### Assessment Functions Declaration"
      ]
    },
    {
      "cell_type": "code",
      "execution_count": 29,
      "metadata": {},
      "outputs": [],
      "source": [
        "def get_true_range(df):\n",
        "    tr_1 = df['High'] - df['Low']\n",
        "    tr_2 = abs(df['High'] - df['Close'].shift())\n",
        "    tr_3 = abs(df['Low'] - df['Close'].shift())\n",
        "    \n",
        "    tr_final = pd.concat([tr_1,tr_2,tr_3],axis=1).max(axis=1)\n",
        "    return tr_final"
      ]
    },
    {
      "cell_type": "code",
      "execution_count": 30,
      "metadata": {},
      "outputs": [],
      "source": [
        "def get_rsi(df, period=14):\n",
        "    delta = df['Close'].diff()\n",
        "    \n",
        "    gain = (delta.where(delta > 0, 0)).rolling(window=period).mean()\n",
        "    loss = (-delta.where(delta < 0, 0)).rolling(window=period).mean()\n",
        "        \n",
        "    avg_gain = gain.ewm(com=period-1, min_periods=period).mean()\n",
        "    avg_loss = loss.ewm(com=period-1, min_periods=period).mean()\n",
        "    \n",
        "    rs = avg_gain / avg_loss\n",
        "    rsi = 100 - (100 / (1 + rs))\n",
        "        \n",
        "    return rsi\n",
        "\n",
        "def get_atr(df, period=14):\n",
        "    tr = get_true_range(df)\n",
        "    return tr.rolling(window=period).mean()\n",
        "\n",
        "def get_dis(df, period=14):\n",
        "    atr = get_atr(df, period)\n",
        "    \n",
        "    up = df['High'] - df['High'].shift()\n",
        "    down = df['Low'].shift() - df['Low']\n",
        "    \n",
        "    plus_dm = up.where((up > down) & (up > 0), 0)\n",
        "    minus_dm = down.where((down > up) & (down > 0), 0)\n",
        "    \n",
        "    plus_dm_smooth = plus_dm.ewm(alpha=1/period, min_periods=period).mean()\n",
        "    minus_dm_smooth = minus_dm.ewm(alpha=1/period, min_periods=period).mean()\n",
        "    \n",
        "    plus_di = 100 * (plus_dm_smooth / atr)\n",
        "    minus_di = 100 * (minus_dm_smooth / atr)\n",
        "    \n",
        "    return plus_di, minus_di\n",
        "\n",
        "def get_adx(df, period=14):\n",
        "    plus_di, minus_di = get_dis(df, period)\n",
        "    \n",
        "    dx = 100 * (abs(plus_di - minus_di) / (plus_di + minus_di))\n",
        "    \n",
        "    adx = dx.ewm(alpha=1/period, min_periods=period).mean()\n",
        "        \n",
        "    return adx\n",
        "\n",
        "def get_macd_histogram(df,period=12):\n",
        "    ema_12 = df['Close'].ewm(span=period, adjust=False).mean()\n",
        "    ema_26 = df['Close'].ewm(span=26, adjust=False).mean()\n",
        "    \n",
        "    macd = ema_12 - ema_26\n",
        "    signal = macd.ewm(span=9, adjust=False).mean()\n",
        "    \n",
        "    return macd - signal\n"
      ]
    },
    {
      "cell_type": "code",
      "execution_count": 31,
      "metadata": {},
      "outputs": [],
      "source": [
        "def get_threshold_score(value,indicator):\n",
        "    score = 0\n",
        "    \n",
        "    score = (value - th[indicator]['lower'])/(th[indicator]['upper'] - th[indicator]['lower']) * 100\n",
        "    score = max(0, min(100, score))\n",
        "    \n",
        "    return score"
      ]
    },
    {
      "cell_type": "code",
      "execution_count": 32,
      "metadata": {},
      "outputs": [],
      "source": [
        "def assess_rsi(df,period=14):\n",
        "    rsi = get_rsi(df, period)\n",
        "    score = get_threshold_score(rsi.iloc[-1],\"rsi\")\n",
        "    return score\n",
        "\n",
        "def assess_dis(df,period=14):\n",
        "    plus_di, minus_di = get_dis(df, period)\n",
        "    score = (get_threshold_score(plus_di.iloc[-1],\"10di+\") + get_threshold_score(minus_di.iloc[-1],\"10di-\"))/2\n",
        "    return score\n",
        "\n",
        "def assess_adx(df,period=14):\n",
        "    adx = get_adx(df, period)\n",
        "    \n",
        "    th = \"10adx\" if period <15 else \"25adx\"\n",
        "    score = get_threshold_score(adx.iloc[-1],th)\n",
        "    return score\n",
        "\n",
        "def assess_macd(df,period=12):\n",
        "    histogram = get_macd_histogram(df,period)\n",
        "\n",
        "    increasement = 0\n",
        "    for i in range(th['macd']['upper'],0,-1):\n",
        "        if histogram.iloc[-i] < histogram.iloc[-i+1]:\n",
        "            increasement += 1\n",
        "    \n",
        "    score = get_threshold_score(increasement,\"macd\")\n",
        "    return score"
      ]
    },
    {
      "cell_type": "markdown",
      "metadata": {},
      "source": [
        "#### Option : Conservative"
      ]
    },
    {
      "cell_type": "code",
      "execution_count": 33,
      "metadata": {},
      "outputs": [],
      "source": [
        "def assess_conservative(df):\n",
        "    rsi = assess_rsi(df)\n",
        "    \n",
        "    short_dis = assess_dis(df,period=10)\n",
        "    long_dis = assess_dis(df,period=25)\n",
        "    \n",
        "    short_adx = assess_adx(df,period=10)\n",
        "    long_adx = assess_adx(df,period=25)\n",
        "    \n",
        "    return rsi, short_dis, long_dis, short_adx, long_adx"
      ]
    },
    {
      "cell_type": "code",
      "execution_count": 34,
      "metadata": {},
      "outputs": [],
      "source": [
        "def export_passed_stock_conservative(stock,score,assessment):\n",
        "    return {\"Stock\":stock,\"Score\":score,\"RSI\":assessment[0],\"10DI+\":assessment[1],\"25DI+\":assessment[2],\"10ADX\":assessment[3],\"25ADX\":assessment[4]}"
      ]
    },
    {
      "cell_type": "markdown",
      "metadata": {},
      "source": [
        "#### Option : Aggressive"
      ]
    },
    {
      "cell_type": "code",
      "execution_count": 35,
      "metadata": {},
      "outputs": [],
      "source": [
        "def assess_aggresive(df):\n",
        "    rsi = assess_rsi(df)\n",
        "    \n",
        "    short_dis = assess_dis(df,period=10)\n",
        "    short_adx = assess_adx(df,period=10)\n",
        "    \n",
        "    macd = assess_macd(df)\n",
        "    \n",
        "    return rsi, short_dis, short_adx, macd"
      ]
    },
    {
      "cell_type": "code",
      "execution_count": 36,
      "metadata": {},
      "outputs": [],
      "source": [
        "def export_passed_stock_aggresive(stock,score,assessment):\n",
        "    return {\"Stock\":stock,\"Score\":score,\"RSI\":assessment[0],\"10DI+\":assessment[1],\"10ADX\":assessment[2],\"MACD\":assessment[3]}"
      ]
    },
    {
      "cell_type": "markdown",
      "metadata": {},
      "source": [
        "####  Implementation"
      ]
    },
    {
      "cell_type": "code",
      "execution_count": 37,
      "metadata": {},
      "outputs": [],
      "source": [
        "assess_stock = {\"conservative\":assess_conservative, \"aggresive\":assess_aggresive}\n",
        "export_stock = {\"conservative\":export_passed_stock_conservative, \"aggresive\":export_passed_stock_aggresive}"
      ]
    },
    {
      "cell_type": "code",
      "execution_count": 38,
      "metadata": {},
      "outputs": [
        {
          "name": "stdout",
          "output_type": "stream",
          "text": [
            "Total :  10\n",
            "Fetched :  9\n",
            "Passed :  0 \n",
            "\n",
            "Total :  20\n",
            "Fetched :  19\n",
            "Passed :  1 \n",
            "\n",
            "Total :  30\n",
            "Fetched :  29\n",
            "Passed :  3 \n",
            "\n",
            "Total :  40\n",
            "Fetched :  39\n",
            "Passed :  4 \n",
            "\n",
            "Total :  50\n",
            "Fetched :  49\n",
            "Passed :  6 \n",
            "\n",
            "Total :  60\n",
            "Fetched :  59\n",
            "Passed :  7 \n",
            "\n",
            "Total :  70\n",
            "Fetched :  69\n",
            "Passed :  9 \n",
            "\n",
            "Total :  80\n",
            "Fetched :  79\n",
            "Passed :  9 \n",
            "\n",
            "Total :  90\n",
            "Fetched :  89\n",
            "Passed :  9 \n",
            "\n",
            "Total :  100\n",
            "Fetched :  99\n",
            "Passed :  9 \n",
            "\n"
          ]
        }
      ],
      "source": [
        "passed_stock = []\n",
        "fetched_stock = 0\n",
        "\n",
        "for index,stock in enumerate(stocks) : \n",
        "    if len(passed_stock) >= stock_number:\n",
        "        break\n",
        "    \n",
        "    if (index+1) % 10 == 0:\n",
        "        print_progress(index+1,fetched_stock,len(passed_stock))\n",
        "    \n",
        "    try:\n",
        "        stock_price_rows = fetch_stock_rows(stock)\n",
        "        stock_df = get_stock_df(stock_price_rows)\n",
        "            \n",
        "        fetched_stock += 1\n",
        "            \n",
        "        assessment = assess_stock[\"aggresive\"](stock_df)\n",
        "\n",
        "        score = sum(assessment)/len(assessment)\n",
        "        if score >= minimum_score:\n",
        "            new_line = export_stock[\"aggresive\"](stock,score,assessment)\n",
        "            passed_stock.append(new_line)\n",
        "                    \n",
        "    except:\n",
        "        pass\n",
        "    \n",
        "final_df = pd.DataFrame(passed_stock)"
      ]
    },
    {
      "cell_type": "code",
      "execution_count": 39,
      "metadata": {},
      "outputs": [],
      "source": [
        "final_df = final_df.sort_values(by=['Score'],ascending=False)\n",
        "final_df.to_csv(\"stock_assessment.csv\",index=False)"
      ]
    }
  ],
  "metadata": {
    "kernelspec": {
      "display_name": "venv",
      "language": "python",
      "name": "python3"
    },
    "language_info": {
      "codemirror_mode": {
        "name": "ipython",
        "version": 3
      },
      "file_extension": ".py",
      "mimetype": "text/x-python",
      "name": "python",
      "nbconvert_exporter": "python",
      "pygments_lexer": "ipython3",
      "version": "3.11.5"
    }
  },
  "nbformat": 4,
  "nbformat_minor": 2
}
